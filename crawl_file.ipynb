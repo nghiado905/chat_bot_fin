{
 "cells": [
  {
   "cell_type": "code",
   "execution_count": 12,
   "metadata": {},
   "outputs": [
    {
     "name": "stdout",
     "output_type": "stream",
     "text": [
      "Failed to retrieve the page. Status code: 403\n"
     ]
    }
   ],
   "source": [
    "import requests\n",
    "from bs4 import BeautifulSoup\n",
    "\n",
    "# URL của trang web mà bạn muốn crawl\n",
    "url = 'https://luatminhkhue.vn/khai-niem-ve-chinh-sach-tai-chinh-noi-dung-co-ban-cua-chinh-sach-tai-chinh-quoc-gia.aspx'\n",
    "\n",
    "# Gửi yêu cầu HTTP để lấy nội dung trang web\n",
    "response = requests.get(url)\n",
    "\n",
    "# Kiểm tra mã trạng thái HTTP\n",
    "if response.status_code == 200:\n",
    "    soup = BeautifulSoup(response.text, 'html.parser')\n",
    "    \n",
    "    title = soup.title.string\n",
    "    print(f'Title: {title}')\n",
    "\n",
    "    paragraphs = soup.find_all('p')\n",
    "    with open('D:/Private/CODE/Chat_bot/data/policy.txt', 'a', encoding='utf-8') as f:\n",
    "        # Write the title to the file\n",
    "        f.write(f'Title: {title}\\n\\n')\n",
    "\n",
    "        # Write the paragraphs to the file\n",
    "        for p in paragraphs:\n",
    "            f.write(p.get_text() + '\\n')\n",
    "    \n",
    "        # Write the links to the file\n",
    "else:\n",
    "    print(f'Failed to retrieve the page. Status code: {response.status_code}')\n"
   ]
  },
  {
   "cell_type": "code",
   "execution_count": null,
   "metadata": {},
   "outputs": [],
   "source": []
  }
 ],
 "metadata": {
  "kernelspec": {
   "display_name": "venv",
   "language": "python",
   "name": "python3"
  },
  "language_info": {
   "codemirror_mode": {
    "name": "ipython",
    "version": 3
   },
   "file_extension": ".py",
   "mimetype": "text/x-python",
   "name": "python",
   "nbconvert_exporter": "python",
   "pygments_lexer": "ipython3",
   "version": "3.11.9"
  }
 },
 "nbformat": 4,
 "nbformat_minor": 2
}
